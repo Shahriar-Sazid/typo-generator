{
 "cells": [
  {
   "cell_type": "code",
   "execution_count": 1,
   "metadata": {},
   "outputs": [
    {
     "name": "stdout",
     "output_type": "stream",
     "text": [
      "['ffulbaria', 'fuulbaria', 'fullbaria', 'fulbbaria', 'fulbaaria', 'fulbarria', 'fulbariia', 'fulbariaa']\n"
     ]
    }
   ],
   "source": [
    "from rules import skip_letter, reverse_letter, double_letter\n",
    "\n",
    "# print(skip_letter('fulbaria', 1))\n",
    "print(double_letter('fulbaria'))\n"
   ]
  }
 ],
 "metadata": {
  "kernelspec": {
   "display_name": "venv",
   "language": "python",
   "name": "python3"
  },
  "language_info": {
   "codemirror_mode": {
    "name": "ipython",
    "version": 3
   },
   "file_extension": ".py",
   "mimetype": "text/x-python",
   "name": "python",
   "nbconvert_exporter": "python",
   "pygments_lexer": "ipython3",
   "version": "3.8.10"
  },
  "orig_nbformat": 4,
  "vscode": {
   "interpreter": {
    "hash": "a71a9e47a6d2f2dbdc0d2c6b92f2246fb70d92a279e190417e2077461759116f"
   }
  }
 },
 "nbformat": 4,
 "nbformat_minor": 2
}
