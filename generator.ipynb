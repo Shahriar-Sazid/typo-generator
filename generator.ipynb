{
 "cells": [
  {
   "cell_type": "code",
   "execution_count": 4,
   "metadata": {},
   "outputs": [
    {
     "name": "stdout",
     "output_type": "stream",
     "text": [
      "['uistan', 'ulstan', 'ulitan', 'ulisan', 'ulistn', 'ulista', 'ulistan', 'listan', 'glstan', 'glitan', 'glisan', 'glistn', 'glista', 'glistan', 'uistan', 'gistan', 'guitan', 'guisan', 'guistn', 'guista', 'guistan', 'ulstan', 'glstan', 'gustan', 'gulsan', 'gulstn', 'gulsta', 'gulstan', 'ulitan', 'glitan', 'guitan', 'gultan', 'gulitn', 'gulita', 'gulitan', 'ulisan', 'glisan', 'guisan', 'gulsan', 'gulian', 'gulisa', 'gulisan', 'ulistn', 'glistn', 'guistn', 'gulstn', 'gulitn', 'gulisn', 'gulistn', 'ulista', 'glista', 'guista', 'gulsta', 'gulita', 'gulisa', 'gulist']\n"
     ]
    }
   ],
   "source": [
    "from rules import n_letter_missing, remove_ith_char\n",
    "\n",
    "print(n_letter_missing('gulistan', 2))\n"
   ]
  }
 ],
 "metadata": {
  "kernelspec": {
   "display_name": "Python 3",
   "language": "python",
   "name": "python3"
  },
  "language_info": {
   "codemirror_mode": {
    "name": "ipython",
    "version": 3
   },
   "file_extension": ".py",
   "mimetype": "text/x-python",
   "name": "python",
   "nbconvert_exporter": "python",
   "pygments_lexer": "ipython3",
   "version": "3.8.13"
  },
  "orig_nbformat": 4,
  "vscode": {
   "interpreter": {
    "hash": "48851ec8db3986c2c04a612aeea8c63ef7c86beb1f8eb82828b8d8ccd698442d"
   }
  }
 },
 "nbformat": 4,
 "nbformat_minor": 2
}
