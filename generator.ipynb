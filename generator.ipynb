{
 "cells": [
  {
   "cell_type": "code",
   "execution_count": 1,
   "metadata": {},
   "outputs": [
    {
     "name": "stdout",
     "output_type": "stream",
     "text": [
      "[(0, 1), (0, 2), (0, 3), (0, 4), (0, 5), (0, 6), (0, 7), (1, 0), (1, 2), (1, 3), (1, 4), (1, 5), (1, 6), (1, 7), (2, 0), (2, 1), (2, 3), (2, 4), (2, 5), (2, 6), (2, 7), (3, 0), (3, 1), (3, 2), (3, 4), (3, 5), (3, 6), (3, 7), (4, 0), (4, 1), (4, 2), (4, 3), (4, 5), (4, 6), (4, 7), (5, 0), (5, 1), (5, 2), (5, 3), (5, 4), (5, 6), (5, 7), (6, 0), (6, 1), (6, 2), (6, 3), (6, 4), (6, 5), (6, 7), (7, 0), (7, 1), (7, 2), (7, 3), (7, 4), (7, 5), (7, 6)]\n",
      "['uistan', 'ulstan', 'ulitan', 'ulisan', 'ulistn', 'ulista', 'ulistan', 'listan', 'glstan', 'glitan', 'glisan', 'glistn', 'glista', 'glistan', 'uistan', 'gistan', 'guitan', 'guisan', 'guistn', 'guista', 'guistan', 'ulstan', 'glstan', 'gustan', 'gulsan', 'gulstn', 'gulsta', 'gulstan', 'ulitan', 'glitan', 'guitan', 'gultan', 'gulitn', 'gulita', 'gulitan', 'ulisan', 'glisan', 'guisan', 'gulsan', 'gulian', 'gulisa', 'gulisan', 'ulistn', 'glistn', 'guistn', 'gulstn', 'gulitn', 'gulisn', 'gulistn', 'ulista', 'glista', 'guista', 'gulsta', 'gulita', 'gulisa', 'gulist']\n"
     ]
    }
   ],
   "source": [
    "from rules import n_letter_missing, remove_ith_char\n",
    "\n",
    "print(n_letter_missing('gulistan', 2))\n"
   ]
  }
 ],
 "metadata": {
  "kernelspec": {
   "display_name": "Python 3",
   "language": "python",
   "name": "python3"
  },
  "language_info": {
   "codemirror_mode": {
    "name": "ipython",
    "version": 3
   },
   "file_extension": ".py",
   "mimetype": "text/x-python",
   "name": "python",
   "nbconvert_exporter": "python",
   "pygments_lexer": "ipython3",
   "version": "3.8.13"
  },
  "orig_nbformat": 4,
  "vscode": {
   "interpreter": {
    "hash": "48851ec8db3986c2c04a612aeea8c63ef7c86beb1f8eb82828b8d8ccd698442d"
   }
  }
 },
 "nbformat": 4,
 "nbformat_minor": 2
}
