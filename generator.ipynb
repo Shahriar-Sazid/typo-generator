{
 "cells": [
  {
   "cell_type": "code",
   "execution_count": 3,
   "metadata": {},
   "outputs": [
    {
     "name": "stdout",
     "output_type": "stream",
     "text": [
      "['athazari', 'hthazari', 'hahazari', 'hatazari', 'hathzari', 'hathaari', 'hathazri', 'hathazai', 'hathazar']\n",
      "['hhathazari', 'haathazari', 'hatthazari', 'hathhazari', 'hathaazari', 'hathazzari', 'hathazaari', 'hathazarri', 'hathazarii']\n",
      "['hathazair', 'hathazrai', 'hathaazri', 'hathzaari', 'hatahzari', 'hahtazari', 'htahazari', 'ahthazari']\n"
     ]
    }
   ],
   "source": [
    "from rules import skip_letter, reverse_letter, double_letter\n",
    "\n",
    "print(skip_letter('hathazari'))\n",
    "print(double_letter('hathazari'))\n",
    "print(reverse_letter('hathazari'))\n"
   ]
  }
 ],
 "metadata": {
  "kernelspec": {
   "display_name": "Python 3",
   "language": "python",
   "name": "python3"
  },
  "language_info": {
   "codemirror_mode": {
    "name": "ipython",
    "version": 3
   },
   "file_extension": ".py",
   "mimetype": "text/x-python",
   "name": "python",
   "nbconvert_exporter": "python",
   "pygments_lexer": "ipython3",
   "version": "3.8.13"
  },
  "orig_nbformat": 4,
  "vscode": {
   "interpreter": {
    "hash": "48851ec8db3986c2c04a612aeea8c63ef7c86beb1f8eb82828b8d8ccd698442d"
   }
  }
 },
 "nbformat": 4,
 "nbformat_minor": 2
}
